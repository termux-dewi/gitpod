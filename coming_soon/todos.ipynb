{
 "cells": [
  {
   "cell_type": "markdown",
   "metadata": {},
   "source": [
    "# To Do List   \n",
    "\n",
    "Examples:\n",
    "1. Add higher-order diffusion examples \n",
    "\n",
    "\n",
    "Signal Processing: \n",
    "1. Add simplicial comlex construction from graph input  \n",
    "\n",
    "General Relativity: \n",
    "1. Add example with $n$-sphere and its curvature  \n",
    "\n",
    "Machine learning: \n",
    "1. Graph Neural Networks using Ricci curvatures\n",
    "\n",
    "Big additions: \n",
    "\n",
    "1. Add random walks over simplicial complexes\n",
    "    * https://arxiv.org/abs/1310.5099\n",
    "\n",
    "2. Add calculation of Olliver-Ricci curvature \n",
    "    * https://projecteuclid.org/euclid.aspm/1543086328\n",
    "    * https://arxiv.org/abs/1906.07404\n"
   ]
  },
  {
   "cell_type": "code",
   "execution_count": null,
   "metadata": {},
   "outputs": [],
   "source": []
  },
  {
   "cell_type": "code",
   "execution_count": null,
   "metadata": {},
   "outputs": [],
   "source": []
  }
 ],
 "metadata": {
  "kernelspec": {
   "display_name": "Python 3",
   "language": "python",
   "name": "python3"
  },
  "language_info": {
   "codemirror_mode": {
    "name": "ipython",
    "version": 3
   },
   "file_extension": ".py",
   "mimetype": "text/x-python",
   "name": "python",
   "nbconvert_exporter": "python",
   "pygments_lexer": "ipython3",
   "version": "3.6.8"
  }
 },
 "nbformat": 4,
 "nbformat_minor": 2
}
