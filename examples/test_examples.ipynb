{
 "cells": [
  {
   "cell_type": "markdown",
   "metadata": {},
   "source": [
    "## Using IPyvolume"
   ]
  },
  {
   "cell_type": "code",
   "execution_count": 1,
   "metadata": {},
   "outputs": [
    {
     "name": "stderr",
     "output_type": "stream",
     "text": [
      "/usr/local/lib/python3.6/dist-packages/ipyvolume/serialize.py:81: RuntimeWarning: invalid value encountered in true_divide\n",
      "  gradient = gradient / np.sqrt(gradient[0]**2 + gradient[1]**2 + gradient[2]**2)\n"
     ]
    },
    {
     "data": {
      "application/vnd.jupyter.widget-view+json": {
       "model_id": "e663973925634ef0932c5e7ebfc1f5f2",
       "version_major": 2,
       "version_minor": 0
      },
      "text/plain": [
       "VBox(children=(VBox(children=(HBox(children=(Label(value='levels:'), FloatSlider(value=0.25, max=1.0, step=0.0…"
      ]
     },
     "metadata": {},
     "output_type": "display_data"
    }
   ],
   "source": [
    "import numpy as np\n",
    "import ipyvolume as ipv\n",
    "V = np.zeros((128,128,128)) # our 3d array\n",
    "# outer box\n",
    "V[30:-30,30:-30,30:-30] = 0.75\n",
    "V[35:-35,35:-35,35:-35] = 0.0\n",
    "# inner box\n",
    "V[50:-50,50:-50,50:-50] = 0.25\n",
    "V[55:-55,55:-55,55:-55] = 0.0\n",
    "ipv.quickvolshow(V, level=[0.25, 0.75], opacity=0.03, level_width=0.1, data_min=0, data_max=1)"
   ]
  },
  {
   "cell_type": "code",
   "execution_count": 2,
   "metadata": {},
   "outputs": [
    {
     "data": {
      "application/vnd.jupyter.widget-view+json": {
       "model_id": "ff752115871d4fceb8d83e6d35468e35",
       "version_major": 2,
       "version_minor": 0
      },
      "text/plain": [
       "VBox(children=(Figure(camera=PerspectiveCamera(fov=46.0, position=(0.0, 0.0, 2.0), quaternion=(0.0, 0.0, 0.0, …"
      ]
     },
     "metadata": {},
     "output_type": "display_data"
    }
   ],
   "source": [
    "import ipyvolume as ipv\n",
    "import numpy as np\n",
    "x, y, z = np.random.random((3, 10000))\n",
    "ipv.quickscatter(x, y, z, size=1, marker=\"sphere\")"
   ]
  },
  {
   "cell_type": "markdown",
   "metadata": {},
   "source": [
    "## Persistence diagrams with Gudhi"
   ]
  },
  {
   "cell_type": "markdown",
   "metadata": {},
   "source": [
    "Next let us observe the persistence diagrams for two proteins. Tutorials on how to do it with Gudhi are available [here](https://github.com/GUDHI/TDA-tutorial)."
   ]
  },
  {
   "cell_type": "code",
   "execution_count": 4,
   "metadata": {},
   "outputs": [
    {
     "name": "stderr",
     "output_type": "stream",
     "text": [
      "WARNING: The default download format has changed from PDB to PDBx/mmCif\n",
      "WARNING: The default download format has changed from PDB to PDBx/mmCif\n"
     ]
    },
    {
     "name": "stdout",
     "output_type": "stream",
     "text": [
      "Structure exists: '/workspace/hodgelaplacians/examples/xp/4xp1.cif' \n",
      "Structure exists: '/workspace/hodgelaplacians/examples/i4/3i40.cif' \n"
     ]
    }
   ],
   "source": [
    "from Bio.PDB import *\n",
    "import numpy as np\n",
    "\n",
    "import warnings\n",
    "warnings.filterwarnings('ignore')\n",
    "\n",
    "pdbl_1 = PDBList()\n",
    "pdbl_1.retrieve_pdb_file('4XP1')\n",
    "\n",
    "pdbl_2 = PDBList()\n",
    "pdbl_2.retrieve_pdb_file('3I40')\n",
    "\n",
    "parser_1 = MMCIFParser()\n",
    "parser_2 = MMCIFParser()\n",
    "\n",
    "structure_1 = parser_1.get_structure('4XP1', 'xp/4xp1.cif')\n",
    "structure_2 = parser_2.get_structure('4XP1', 'i4/3i40.cif')"
   ]
  },
  {
   "cell_type": "code",
   "execution_count": null,
   "metadata": {},
   "outputs": [],
   "source": [
    "import nglview as nv\n",
    "\n",
    "view_1 = nv.show_biopython(structure_1)\n",
    "view_1.clear_representations()\n",
    "#view as ball and stick (atom and bond)\n",
    "view_1.add_ball_and_stick()\n",
    "\n",
    "view_1"
   ]
  },
  {
   "cell_type": "code",
   "execution_count": null,
   "metadata": {},
   "outputs": [],
   "source": [
    "points_1 = []\n",
    "points_2 = []\n",
    "\n",
    "for model in structure_1:\n",
    "    for chain in model:\n",
    "        for residue in chain:\n",
    "            for atom in residue:\n",
    "                points_1.append(tuple(atom.coord))\n",
    "                \n",
    "for model in structure_2:\n",
    "    for chain in model:\n",
    "        for residue in chain:\n",
    "            for atom in residue:\n",
    "                points_2.append(tuple(atom.coord))\n",
    "\n",
    "points_1 = np.array(points_1)\n",
    "points_2 = np.array(points_2)\n",
    "\n",
    "print(f\"There are {len(points_1)} atoms in the protein 1.\")\n",
    "print(f\"There are {len(points_2)} atoms in the protein 2.\")"
   ]
  },
  {
   "cell_type": "code",
   "execution_count": null,
   "metadata": {},
   "outputs": [],
   "source": []
  },
  {
   "cell_type": "code",
   "execution_count": null,
   "metadata": {},
   "outputs": [],
   "source": [
    "import gudhi as gd\n",
    "import time\n",
    "start_time = time.time()\n",
    "\n",
    "\n",
    "epsilon = 10 # Connect two points if distance is smaller than epsilon\n",
    "\n",
    "skeleton_1  = gd.RipsComplex(points = points_1, max_edge_length=epsilon )\n",
    "rips_simplex_tree_1 = skeleton_1.create_simplex_tree(max_dimension=3) \n",
    "rips_skeleton_gudhi_1 = rips_simplex_tree_1.get_skeleton(3)\n",
    "\n",
    "skeleton_2  = gd.RipsComplex(points = points_2, max_edge_length=epsilon )\n",
    "rips_simplex_tree_2 = skeleton_2.create_simplex_tree(max_dimension=3) \n",
    "rips_skeleton_gudhi_2 = rips_simplex_tree_2.get_skeleton(3)\n",
    "\n",
    "end_time = time.time()\n",
    "\n",
    "print(f\"Simplex tree constructed in {end_time-start_time} seconds\")"
   ]
  },
  {
   "cell_type": "code",
   "execution_count": null,
   "metadata": {},
   "outputs": [],
   "source": [
    "import numpy as np\n",
    "from pylab import *\n",
    "from mpl_toolkits.mplot3d import Axes3D\n",
    "%matplotlib inline\n",
    "# import sklearn_tda\n",
    "#skeleton  = gd.RipsComplex(points = data_A_sample,max_edge_length=0.6 )\n",
    "\n",
    "Rips_simplex_tree_sample = skeleton_1.create_simplex_tree(max_dimension=2) \n",
    "\n",
    "BarCodes_Rips = Rips_simplex_tree_sample.persistence()\n",
    "\n",
    "gd.plot_persistence_diagram(BarCodes_Rips);"
   ]
  }
 ],
 "metadata": {
  "kernelspec": {
   "display_name": "Python 3",
   "language": "python",
   "name": "python3"
  },
  "language_info": {
   "codemirror_mode": {
    "name": "ipython",
    "version": 3
   },
   "file_extension": ".py",
   "mimetype": "text/x-python",
   "name": "python",
   "nbconvert_exporter": "python",
   "pygments_lexer": "ipython3",
   "version": "3.6.7"
  }
 },
 "nbformat": 4,
 "nbformat_minor": 2
}
