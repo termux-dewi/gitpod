{
 "cells": [
  {
   "cell_type": "markdown",
   "metadata": {},
   "source": [
    "# Higher order Laplacians for protein atoms <a class=\"anchor\" id=\"toc\"></a>\n",
    "Authors: Mikhail Tsitsvero\n",
    "\n",
    "<br/>\n",
    "\n",
    "1. [Protein 3-D point cloud of atoms](#proteins)\n",
    "2. [Constructing simplex tree](#tree)\n",
    "3. [Using ```HodgeLaplacinans()``` class](#hodge) \n",
    "4. [References](#refs)\n"
   ]
  },
  {
   "cell_type": "markdown",
   "metadata": {},
   "source": [
    "<br/>\n",
    "\n",
    "#### Abstract\n",
    "In this example we will illustrate how to use ```HodgeLaplacians()``` class to get higher order Laplacians for a simplicial complex constructed from the protein data. To access Protein Data Bank we will use [BioPython Library](https://biopython.org/) and to efficiently compute the tree of simplices we will use [C++ GUDHI Library](http://gudhi.gforge.inria.fr/). A variety of alternative [libraries for Topological Data Analysis](https://en.wikipedia.org/wiki/Persistent_homology#Computation) are also available. \n",
    "\n",
    "<br/>\n",
    "<br/>"
   ]
  },
  {
   "cell_type": "markdown",
   "metadata": {},
   "source": [
    "## Protein point cloud data <a class=\"anchor\" id=\"proteins\"></a> [↑](#toc)\n",
    "First, to install BioPython and nglview run\n",
    "```python\n",
    "pip3 install biopython nglview\n",
    "```\n",
    "To activate the nglview extension for notebook, run before starting Jupyter:\n",
    "```python\n",
    "jupyter-nbextension enable nglview --py --sys-prefix\n",
    "jupyter nbextension enable widgetsnbextension --user --py\n",
    "```\n",
    "\n",
    "There is a [nice video tutorial](https://www.youtube.com/watch?v=mL8NPpRxgJA) ([notebook for tutorial](https://nbviewer.jupyter.org/github/cgoliver/Notebooks/blob/master/COMP_364/L27/L27.ipynb)) on BioPython and Protein Data Bank format."
   ]
  },
  {
   "cell_type": "code",
   "execution_count": 1,
   "metadata": {},
   "outputs": [
    {
     "name": "stderr",
     "output_type": "stream",
     "text": [
      "WARNING: The default download format has changed from PDB to PDBx/mmCif\n",
      "WARNING: The default download format has changed from PDB to PDBx/mmCif\n"
     ]
    },
    {
     "name": "stdout",
     "output_type": "stream",
     "text": [
      "Structure exists: '/workspace/hodgelaplacians/examples/xp/4xp1.cif' \n",
      "Structure exists: '/workspace/hodgelaplacians/examples/i4/3i40.cif' \n"
     ]
    }
   ],
   "source": [
    "from Bio.PDB import *\n",
    "import numpy as np\n",
    "\n",
    "import warnings\n",
    "warnings.filterwarnings('ignore')\n",
    "\n",
    "pdbl_1 = PDBList()\n",
    "pdbl_1.retrieve_pdb_file('4XP1')\n",
    "\n",
    "pdbl_2 = PDBList()\n",
    "pdbl_2.retrieve_pdb_file('3I40')\n",
    "\n",
    "parser_1 = MMCIFParser()\n",
    "parser_2 = MMCIFParser()\n",
    "\n",
    "structure_1 = parser_1.get_structure('4XP1', 'xp/4xp1.cif')\n",
    "structure_2 = parser_2.get_structure('4XP1', 'i4/3i40.cif')"
   ]
  },
  {
   "cell_type": "markdown",
   "metadata": {},
   "source": [
    "Let us visualize two proteins using the viewer form ```nglview``` module."
   ]
  },
  {
   "cell_type": "code",
   "execution_count": 2,
   "metadata": {
    "scrolled": false
   },
   "outputs": [
    {
     "data": {
      "application/vnd.jupyter.widget-view+json": {
       "model_id": "085a455e30774693a1a0c8351d51f653",
       "version_major": 2,
       "version_minor": 0
      },
      "text/plain": [
       "NGLWidget()"
      ]
     },
     "metadata": {},
     "output_type": "display_data"
    }
   ],
   "source": [
    "import nglview as nv\n",
    "\n",
    "view_1 = nv.show_biopython(structure_1)\n",
    "view_1.clear_representations()\n",
    "#view as ball and stick (atom and bond)\n",
    "view_1.add_ball_and_stick()\n",
    "\n",
    "view_1"
   ]
  },
  {
   "cell_type": "code",
   "execution_count": 4,
   "metadata": {},
   "outputs": [
    {
     "data": {
      "application/vnd.jupyter.widget-view+json": {
       "model_id": "33e826fc5b4742b190c528e678cbf969",
       "version_major": 2,
       "version_minor": 0
      },
      "text/plain": [
       "NGLWidget()"
      ]
     },
     "metadata": {},
     "output_type": "display_data"
    }
   ],
   "source": [
    "view_2 = nv.show_biopython(structure_2)\n",
    "view_2.clear_representations()\n",
    "#view as ball and stick (atom and bond)\n",
    "view_2.add_ball_and_stick()\n",
    "view_2"
   ]
  },
  {
   "cell_type": "markdown",
   "metadata": {},
   "source": [
    "Next we extract the 3-D coordinates of individual atoms in each protein."
   ]
  },
  {
   "cell_type": "code",
   "execution_count": 5,
   "metadata": {},
   "outputs": [
    {
     "name": "stdout",
     "output_type": "stream",
     "text": [
      "There are 7675 atoms in the protein 1.\n",
      "There are 438 atoms in the protein 2.\n"
     ]
    }
   ],
   "source": [
    "points_1 = []\n",
    "points_2 = []\n",
    "\n",
    "for model in structure_1:\n",
    "    for chain in model:\n",
    "        for residue in chain:\n",
    "            for atom in residue:\n",
    "                points_1.append(tuple(atom.coord))\n",
    "                \n",
    "for model in structure_2:\n",
    "    for chain in model:\n",
    "        for residue in chain:\n",
    "            for atom in residue:\n",
    "                points_2.append(tuple(atom.coord))\n",
    "\n",
    "points_1 = np.array(points_1)\n",
    "points_2 = np.array(points_2)\n",
    "\n",
    "print(f\"There are {len(points_1)} atoms in the protein 1.\")\n",
    "print(f\"There are {len(points_2)} atoms in the protein 2.\")"
   ]
  },
  {
   "cell_type": "markdown",
   "metadata": {},
   "source": [
    "## Constructing simplex tree <a class=\"anchor\" id=\"tree\"></a> [↑](#toc)\n",
    "\n",
    "In this section we will connect the neighboring points/atoms with edges thus obtaining a graph where each node/atom is connected to its neighbours in 3D. From the graph we derive the Vietoris-Rips simplicial complex simply by adding simplices associated to each clique of up to certain size in a graph.\n",
    "\n",
    "To get the connectivity of a graph we will use C++ GUDHI Library that will provides us simplex tree with filtration values as an output. We will use simplex tree data as input data to our ```HodgeLaplacians()``` class. \n",
    "\n",
    "To install GUDHI Library:\n",
    "1. [Download and compile C++ Sources](http://gudhi.gforge.inria.fr/doc/latest/installation.html)\n",
    "2. [Build Cython module for GUDHI](http://gudhi.gforge.inria.fr/python/latest/installation.html)\n",
    "\n",
    "P.S. Don't forget to install all C/C++ dependencies like Boost, CGAL, Eigen, GMP, CMake,...\n",
    "\n",
    "Let us assume that you've spent happy 30 minutes and compiled and installed the library, so we can proceed with the construction of connectivity and simplex tree to finally feed it into ```HodgeLaplacians()``` class.\n",
    "\n",
    "Construction of local neighbourhood connectivity is computationally intensive task that is why we rely on a separate compiled C++ library and do not incorporate this functionality inside ```HodgeLaplacians()``` class. In Python pairwise distance check for points could take a long time."
   ]
  },
  {
   "cell_type": "code",
   "execution_count": 11,
   "metadata": {},
   "outputs": [
    {
     "name": "stdout",
     "output_type": "stream",
     "text": [
      "Simplex tree constructed in 1.1395461559295654 seconds\n"
     ]
    }
   ],
   "source": [
    "import gudhi as gd\n",
    "import time\n",
    "start_time = time.time()\n",
    "\n",
    "\n",
    "epsilon = 3 # Connect two points if distance is smaller than epsilon\n",
    "\n",
    "skeleton_1  = gd.RipsComplex(points = points_1, max_edge_length=epsilon )\n",
    "rips_simplex_tree_1 = skeleton_1.create_simplex_tree(max_dimension=3) \n",
    "rips_skeleton_gudhi_1 = rips_simplex_tree_1.get_skeleton(3)\n",
    "\n",
    "skeleton_2  = gd.RipsComplex(points = points_2, max_edge_length=epsilon )\n",
    "rips_simplex_tree_2 = skeleton_2.create_simplex_tree(max_dimension=3) \n",
    "rips_skeleton_gudhi_2 = rips_simplex_tree_2.get_skeleton(3)\n",
    "\n",
    "end_time = time.time()\n",
    "\n",
    "print(f\"Simplex tree constructed in {end_time-start_time} seconds\")"
   ]
  },
  {
   "cell_type": "code",
   "execution_count": null,
   "metadata": {},
   "outputs": [],
   "source": []
  },
  {
   "cell_type": "markdown",
   "metadata": {},
   "source": [
    "## Using ```HodgeLaplacinans()``` to get diffusion operators, Ricci curvature and spectrum <a class=\"anchor\" id=\"hodge\"></a>\n",
    "\n",
    "To install ```hodgelaplacians``` library \n",
    "~~~\n",
    "pip3 install hodgelaplacians\n",
    "~~~\n"
   ]
  },
  {
   "cell_type": "markdown",
   "metadata": {},
   "source": [
    "First let us import the main class ```HodgeLaplacians()```, initialize it by simplex tree, and get all the Laplacian matrices and boundary maps for both proteins."
   ]
  },
  {
   "cell_type": "code",
   "execution_count": 12,
   "metadata": {},
   "outputs": [],
   "source": [
    "import sys\n",
    "sys.path.insert(0, \"../\")\n",
    "from hodgelaplacians import HodgeLaplacians\n",
    "\n",
    "start = time.time()\n",
    "\n",
    "hl_1 = HodgeLaplacians(rips_skeleton_gudhi_1, maxdimension=3, mode='gudhi')\n",
    "hl_2 = HodgeLaplacians(rips_skeleton_gudhi_2, maxdimension=3, mode='gudhi')"
   ]
  },
  {
   "cell_type": "code",
   "execution_count": 13,
   "metadata": {},
   "outputs": [
    {
     "name": "stdout",
     "output_type": "stream",
     "text": [
      "There are 7675 0-simplices (atoms) in simplicial complex of protein 1\n",
      "There are 23469 1-simplices (edges) in simplicial complex of protein 1\n",
      "There are 23924 2-simplices (faces) in simplicial complex of protein 1 \n",
      "\n",
      "There are 438 0-simplices (atoms) in simplicial complex of protein 2\n",
      "There are 1230 1-simplices (edges) in simplicial complex of protein 2\n",
      "There are 1189 2-simplices (faces) in simplicial complex of protein 2 \n",
      "\n"
     ]
    }
   ],
   "source": [
    "print(f\"There are {len(hl_1.n_faces(0))} 0-simplices (atoms) in simplicial complex of protein 1\")\n",
    "print(f\"There are {len(hl_1.n_faces(1))} 1-simplices (edges) in simplicial complex of protein 1\")\n",
    "print(f\"There are {len(hl_1.n_faces(2))} 2-simplices (faces) in simplicial complex of protein 1 \\n\")\n",
    "\n",
    "print(f\"There are {len(hl_2.n_faces(0))} 0-simplices (atoms) in simplicial complex of protein 2\")\n",
    "print(f\"There are {len(hl_2.n_faces(1))} 1-simplices (edges) in simplicial complex of protein 2\")\n",
    "print(f\"There are {len(hl_2.n_faces(2))} 2-simplices (faces) in simplicial complex of protein 2 \\n\")"
   ]
  },
  {
   "cell_type": "code",
   "execution_count": 14,
   "metadata": {},
   "outputs": [
    {
     "name": "stdout",
     "output_type": "stream",
     "text": [
      "Laplacians for protein 1 were constructed in 2.5004234313964844 seconds\n"
     ]
    }
   ],
   "source": [
    "start = time.time()\n",
    "\n",
    "# # Boundary operators\n",
    "B0_1 = hl_1.getBoundaryOperator(0)\n",
    "B1_1 = hl_1.getBoundaryOperator(1)\n",
    "B2_1 = hl_1.getBoundaryOperator(2)\n",
    "B3_1 = hl_1.getBoundaryOperator(3)\n",
    "\n",
    "# # Hodge Laplacians\n",
    "L0_1 = hl_1.getHodgeLaplacian(0)\n",
    "L1_1 = hl_1.getHodgeLaplacian(1)\n",
    "L2_1 = hl_1.getHodgeLaplacian(2)\n",
    "L3_1 = hl_1.getHodgeLaplacian(3)\n",
    "\n",
    "# # Bochner Laplacian \n",
    "# # (row sum of absolute values equals to diagonal element)\n",
    "LB0_1 = hl_1.getBochnerLaplacian(0)\n",
    "LB1_1 = hl_1.getBochnerLaplacian(1)\n",
    "LB2_1 = hl_1.getBochnerLaplacian(2)\n",
    "LB3_1 = hl_1.getBochnerLaplacian(3)\n",
    "end = time.time()\n",
    "\n",
    "print(f\"Laplacians for protein 1 were constructed in {end-start} seconds\")"
   ]
  },
  {
   "cell_type": "markdown",
   "metadata": {},
   "source": [
    "Let us see how many simplices of each dimension are there for each protein"
   ]
  },
  {
   "cell_type": "code",
   "execution_count": 15,
   "metadata": {},
   "outputs": [
    {
     "name": "stdout",
     "output_type": "stream",
     "text": [
      "Laplacians for protein 2 were constructed in 0.13333988189697266 seconds\n"
     ]
    }
   ],
   "source": [
    "start = time.time()\n",
    "\n",
    "# # Boundary operators\n",
    "B0_2 = hl_2.getBoundaryOperator(0)\n",
    "B1_2 = hl_2.getBoundaryOperator(1)\n",
    "B2_2 = hl_2.getBoundaryOperator(2)\n",
    "B3_2 = hl_2.getBoundaryOperator(3)\n",
    "\n",
    "# # Hodge Laplacians\n",
    "L0_2 = hl_2.getHodgeLaplacian(0)\n",
    "L1_2 = hl_2.getHodgeLaplacian(1)\n",
    "L2_2 = hl_2.getHodgeLaplacian(2)\n",
    "L3_2 = hl_2.getHodgeLaplacian(3)\n",
    "\n",
    "# # Bochner Laplacian \n",
    "# # (row sum of absolute values equals to diagonal element)\n",
    "LB0_2 = hl_2.getBochnerLaplacian(0)\n",
    "LB1_2 = hl_2.getBochnerLaplacian(1)\n",
    "LB2_2 = hl_2.getBochnerLaplacian(2)\n",
    "LB3_2 = hl_2.getBochnerLaplacian(3)\n",
    "end = time.time()\n",
    "\n",
    "print(f\"Laplacians for protein 2 were constructed in {end-start} seconds\")"
   ]
  },
  {
   "cell_type": "markdown",
   "metadata": {},
   "source": [
    "## Simulate higher-order diffusion"
   ]
  },
  {
   "cell_type": "markdown",
   "metadata": {},
   "source": [
    "In this section we will get heat kernels for Hodge and Bochner Laplacians. Heat kernel is the fundamental solution of the heat equation. Denoting by $L$ a Laplacian operator, heat equation is given by $$\\partial_t f = L f$$ and the heat kernel its fundamental solution at time $t$ $$G = e^{tL}.$$"
   ]
  },
  {
   "cell_type": "code",
   "execution_count": null,
   "metadata": {},
   "outputs": [],
   "source": [
    "    def getHodgeHeatKernel(self,d,t):\n",
    "\n",
    "\n",
    "\n",
    "    def getBochnerHeatKernel(self,d,t):\n",
    "\n",
    "\n",
    "    def diffuseChainHodge(self, d, chain, t):\n",
    "\n",
    "\n",
    "    def diffuseChainBochner(self, d, chain, t):\n"
   ]
  },
  {
   "cell_type": "markdown",
   "metadata": {},
   "source": [
    "### Hodge and Bochner Laplacian eigenvalues in an interval"
   ]
  },
  {
   "cell_type": "markdown",
   "metadata": {},
   "source": [
    "Computation of eigenvalue/eigenvector parir is an expensive operation. ```HodgeLaplacians()``` class uses  ARPACK algorithm from ```scipy.sparse``` module to perform this task. Let us illustrate how it works in practice and measure timing."
   ]
  },
  {
   "cell_type": "markdown",
   "metadata": {},
   "source": [
    "Let us compute the first 20 eigenvalue/eigenvector pairs. For the protein 1 which has more atoms it should take longer (estimated around 100 seconds)."
   ]
  },
  {
   "cell_type": "code",
   "execution_count": 17,
   "metadata": {},
   "outputs": [
    {
     "name": "stdout",
     "output_type": "stream",
     "text": [
      "Eigendecomposition is performed in 5.943233966827393 seconds for protein 1.\n"
     ]
    }
   ],
   "source": [
    "start = time.time()\n",
    "\n",
    "evalsL1_1, evecsL1_1 = hl_1.getHodgeSpectrum(1, 10, around_point = 0.01)\n",
    "evalsLB1_1, evecsLB1_1 = hl_1.getBochnerSpectrum(1, 10, around_point = 0.01)\n",
    "\n",
    "end = time.time()\n",
    "print(f\"Eigendecomposition is performed in {end - start} seconds for protein 1.\")"
   ]
  },
  {
   "cell_type": "markdown",
   "metadata": {},
   "source": [
    "Protein 2 is smaller. Let us time eigendecomposition of its 1-Laplacians."
   ]
  },
  {
   "cell_type": "code",
   "execution_count": 18,
   "metadata": {},
   "outputs": [
    {
     "name": "stdout",
     "output_type": "stream",
     "text": [
      "Eigendecomposition is performed in 14.773340940475464 seconds for protein 2.\n"
     ]
    }
   ],
   "source": [
    "start = time.time()\n",
    "\n",
    "evalsL1_2, evecsL1_2 = hl_2.getHodgeSpectrum(1, 10, around_point = 0.01)\n",
    "evalsLB1_2, evecsLB1_2 = hl_2.getBochnerSpectrum(1, 10, around_point = 0.01)\n",
    "\n",
    "end = time.time()\n",
    "print(f\"Eigendecomposition is performed in {end - start} seconds for protein 2.\")"
   ]
  },
  {
   "cell_type": "code",
   "execution_count": 19,
   "metadata": {},
   "outputs": [
    {
     "data": {
      "text/plain": [
       "<matplotlib.axes._subplots.AxesSubplot at 0x7ff3ddbcb7b8>"
      ]
     },
     "execution_count": 19,
     "metadata": {},
     "output_type": "execute_result"
    },
    {
     "data": {
      "image/png": "[encoded data removed]",
      "text/plain": [
       "<Figure size 864x216 with 2 Axes>"
      ]
     },
     "metadata": {
      "needs_background": "light"
     },
     "output_type": "display_data"
    }
   ],
   "source": [
    "%matplotlib inline\n",
    "import pandas as pd\n",
    "import matplotlib.pyplot as plt\n",
    "\n",
    "fig, axes = plt.subplots(nrows=1, ncols=2, figsize=(12,3))\n",
    "\n",
    "df = pd.DataFrame({'Protein 1':evalsL1_1, 'Protein 2':evalsL1_2})\n",
    "df[['Protein 1', 'Protein 2']].plot(ax=axes[0], title=\"Eigenvalues of 1-Hodge Laplacian\", grid=True)\n",
    "\n",
    "df = pd.DataFrame({'Protein 1':evalsLB1_1, 'Protein 2':evalsLB1_2})\n",
    "df[['Protein 1', 'Protein 2']].plot(ax=axes[1], title=\"Eigenvalues of 1-Bochner Laplacian\", grid=True)"
   ]
  },
  {
   "cell_type": "markdown",
   "metadata": {},
   "source": [
    "### Distribution of combinatorial Ricci curvature of two proteins\n",
    "\n",
    "Combinatorial Ricci curvature utilizes Bochner decomposition identity to obtain diagonal Ricci curvature matrix and was introduced by R. Formain in [[1](#refs)] or just [click here](https://link.springer.com/content/pdf/10.1007%2Fs00454-002-0743-x.pdf) to access the pdf directly."
   ]
  },
  {
   "cell_type": "code",
   "execution_count": 20,
   "metadata": {},
   "outputs": [],
   "source": [
    "# Combinatorial Ricci curvature\n",
    "# (correction term for Laplacian to become Bochner Laplacian)\n",
    "R0_1 = hl_1.getCombinatorialRicci(0)\n",
    "R1_1 = hl_1.getCombinatorialRicci(1)\n",
    "R2_1 = hl_1.getCombinatorialRicci(2)\n",
    "R3_1 = hl_1.getCombinatorialRicci(3)\n",
    "\n",
    "# # Combinatorial Ricci curvature\n",
    "# # (correction term for Laplacian to become Bochner Laplacian)\n",
    "R0_2 = hl_2.getCombinatorialRicci(0)\n",
    "R1_2 = hl_2.getCombinatorialRicci(1)\n",
    "R2_2 = hl_2.getCombinatorialRicci(2)\n",
    "R3_2 = hl_2.getCombinatorialRicci(3)"
   ]
  },
  {
   "cell_type": "markdown",
   "metadata": {},
   "source": [
    "Now let us plot the historgrams side-by-side"
   ]
  },
  {
   "cell_type": "code",
   "execution_count": 21,
   "metadata": {
    "scrolled": false
   },
   "outputs": [
    {
     "data": {
      "text/plain": [
       "<matplotlib.axes._subplots.AxesSubplot at 0x7ff3d8802470>"
      ]
     },
     "execution_count": 21,
     "metadata": {},
     "output_type": "execute_result"
    },
    {
     "data": {
      "image/png": "[encoded data removed]",
      "text/plain": [
       "<Figure size 864x216 with 2 Axes>"
      ]
     },
     "metadata": {
      "needs_background": "light"
     },
     "output_type": "display_data"
    },
    {
     "data": {
      "image/png": "[encoded data removed]",
      "text/plain": [
       "<Figure size 864x216 with 2 Axes>"
      ]
     },
     "metadata": {
      "needs_background": "light"
     },
     "output_type": "display_data"
    },
    {
     "data": {
      "image/png": "[encoded data removed]",
      "text/plain": [
       "<Figure size 864x216 with 2 Axes>"
      ]
     },
     "metadata": {
      "needs_background": "light"
     },
     "output_type": "display_data"
    }
   ],
   "source": [
    "plt.figure(figsize=(12,3))\n",
    "plt.subplot(1, 2, 1)\n",
    "plt.suptitle('Distribution of combinatorial Ricci-1 curvature in two proteins \\n')\n",
    "plt.xlabel('Combinatorial Ricci Curvature')\n",
    "plt.ylabel('Frequency')\n",
    "plt.grid(axis='y', alpha=0.75)\n",
    "plot_ricci1_1 = pd.Series(R1_1)\n",
    "plot_ricci1_1.plot.hist(grid=True, bins=20, rwidth=0.9, color='#004c99')\n",
    "plt.subplot(1, 2, 2)\n",
    "plt.xlabel('Combinatorial Ricci Curvature')\n",
    "plt.ylabel('Frequency')\n",
    "plt.grid(axis='y', alpha=0.75)\n",
    "plot_ricci1_2 = pd.Series(R1_2)\n",
    "plot_ricci1_2.plot.hist(grid=True, bins=20, rwidth=0.9, color='#006633')\n",
    "\n",
    "\n",
    "plt.figure(figsize=(12,3))\n",
    "plt.suptitle('Distribution of combinatorial Ricci-2 curvature in two proteins \\n')\n",
    "plt.subplot(1, 2, 1)\n",
    "plt.xlabel('Combinatorial Ricci Curvature')\n",
    "plt.ylabel('Frequency')\n",
    "plt.grid(axis='y', alpha=0.75)\n",
    "plot_ricci1_1 = pd.Series(R2_1)\n",
    "plot_ricci1_1.plot.hist(grid=True, bins=20, rwidth=0.9, color='#004c99')\n",
    "plt.subplot(1, 2, 2)\n",
    "plt.xlabel('Combinatorial Ricci Curvature')\n",
    "plt.ylabel('Frequency')\n",
    "plt.grid(axis='y', alpha=0.75)\n",
    "plot_ricci1_2 = pd.Series(R2_2)\n",
    "plot_ricci1_2.plot.hist(grid=True, bins=20, rwidth=0.9, color='#006633')\n",
    "\n",
    "\n",
    "plt.figure(figsize=(12,3))\n",
    "plt.suptitle('Distribution of combinatorial Ricci-3 curvature in two proteins \\n')\n",
    "plt.subplot(1, 2, 1)\n",
    "plt.xlabel('Combinatorial Ricci Curvature')\n",
    "plt.ylabel('Frequency')\n",
    "plt.grid(axis='y', alpha=0.75)\n",
    "plot_ricci1_1 = pd.Series(R3_1)\n",
    "plot_ricci1_1.plot.hist(grid=True, bins=20, rwidth=0.9, color='#004c99')\n",
    "plt.subplot(1, 2, 2)\n",
    "plt.xlabel('Combinatorial Ricci Curvature')\n",
    "plt.ylabel('Frequency')\n",
    "plt.grid(axis='y', alpha=0.75)\n",
    "plot_ricci1_2 = pd.Series(R3_2)\n",
    "plot_ricci1_2.plot.hist(grid=True, bins=20, rwidth=0.9, color='#006633')"
   ]
  },
  {
   "cell_type": "code",
   "execution_count": null,
   "metadata": {
    "scrolled": true
   },
   "outputs": [],
   "source": []
  },
  {
   "cell_type": "markdown",
   "metadata": {},
   "source": [
    "## References <a class=\"anchor\" id=\"refs\"></a> [↑](#toc)\n",
    "\n",
    "1. [R. Forman, Bochner's Method for Cell Complexes and Combinatorial Ricci Curvature](https://link.springer.com/content/pdf/10.1007%2Fs00454-002-0743-x.pdf)"
   ]
  },
  {
   "cell_type": "code",
   "execution_count": null,
   "metadata": {},
   "outputs": [],
   "source": []
  }
 ],
 "metadata": {
  "kernelspec": {
   "display_name": "Python 3",
   "language": "python",
   "name": "python3"
  },
  "language_info": {
   "codemirror_mode": {
    "name": "ipython",
    "version": 3
   },
   "file_extension": ".py",
   "mimetype": "text/x-python",
   "name": "python",
   "nbconvert_exporter": "python",
   "pygments_lexer": "ipython3",
   "version": "3.6.7"
  },
  "widgets": {
   "application/vnd.jupyter.widget-state+json": {
    "state": {
     "023c7031805e42b8aaff88bc2551f701": {
      "model_module": "@jupyter-widgets/base",
      "model_module_version": "1.1.0",
      "model_name": "LayoutModel",
      "state": {}
     },
     "05f2a9220b364ef9baa382867f5e3353": {
      "model_module": "@jupyter-widgets/base",
      "model_module_version": "1.1.0",
      "model_name": "LayoutModel",
      "state": {}
     },
     "0e294676da094e2eb02e57b0b3183043": {
      "model_module": "@jupyter-widgets/controls",
      "model_module_version": "1.4.0",
      "model_name": "ImageModel",
      "state": {
       "layout": "IPY_MODEL_7e662d5f130c40eea892e7885089849d",
       "width": "900.0"
      }
     },
     "124972b85b024a2490cdc464e2b41bf4": {
      "model_module": "@jupyter-widgets/base",
      "model_module_version": "1.1.0",
      "model_name": "LayoutModel",
      "state": {}
     },
     "14ad1e4e7bd441ed91419281a847677f": {
      "model_module": "@jupyter-widgets/base",
      "model_module_version": "1.1.0",
      "model_name": "LayoutModel",
      "state": {}
     },
     "15d99403b6bd447e93b6bd9abcb389f6": {
      "buffers": [
       {
        "data": "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",
        "encoding": "base64",
        "path": [
         "color",
         0,
         "data"
        ]
       },
       {
        "data": "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",
        "encoding": "base64",
        "path": [
         "x",
         0,
         "data"
        ]
       },
       {
        "data": "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",
        "encoding": "base64",
        "path": [
         "y",
         0,
         "data"
        ]
       },
       {
        "data": "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",
        "encoding": "base64",
        "path": [
         "z",
         0,
         "data"
        ]
       }
      ],
      "model_module": "ipyvolume",
      "model_module_version": "~0.5.1",
      "model_name": "ScatterModel",
      "state": {
       "color": [
        {
         "dtype": "float32",
         "shape": [
          2600,
          4
         ]
        }
       ],
       "geo": "sphere",
       "line_material": "IPY_MODEL_1d238762ebce481da3146b6563c59857",
       "material": "IPY_MODEL_d9792016090e4f498b8627a8b430ec42",
       "size": 0.5,
       "size_selected": 2.6,
       "texture": null,
       "vx": null,
       "vy": null,
       "vz": null,
       "x": [
        {
         "dtype": "float32",
         "shape": [
          2600
         ]
        }
       ],
       "y": [
        {
         "dtype": "float32",
         "shape": [
          2600
         ]
        }
       ],
       "z": [
        {
         "dtype": "float32",
         "shape": [
          2600
         ]
        }
       ]
      }
     },
     "1b88ca8d5fd6465fb00a8e525950bafc": {
      "model_module": "ipyvolume",
      "model_module_version": "~0.5.1",
      "model_name": "FigureModel",
      "state": {
       "animation": 200,
       "camera": "IPY_MODEL_3223da11d196439cbe22d4efc01f18b7",
       "capture_fps": null,
       "height": 500,
       "layout": "IPY_MODEL_023c7031805e42b8aaff88bc2551f701",
       "matrix_projection": [
        1.884681892659002,
        0,
        0,
        0,
        0,
        2.3558523658237527,
        0,
        0,
        0,
        0,
        -1.00010000500025,
        -1,
        0,
        0,
        -0.200010000500025,
        0
       ],
       "matrix_world": [
        0.0015355183826160721,
        0.0004557399806744973,
        0.004736505501597452,
        0,
        -0.00042620161859859874,
        0.004970182596937438,
        -0.0003400546035626681,
        0,
        -0.004739254738558801,
        -0.00029930924328366084,
        0.0015652087719958978,
        0,
        -8.456776945386932e-17,
        -9.540979117872437e-18,
        -1.0728860078236324,
        1
       ],
       "meshes": [],
       "scatters": [
        "IPY_MODEL_15d99403b6bd447e93b6bd9abcb389f6"
       ],
       "scene": "IPY_MODEL_92389458b2dd4025a8e5fd6f9902ab20",
       "volumes": [],
       "width": 400,
       "xlim": [
        -100,
        100
       ],
       "ylim": [
        -100,
        100
       ],
       "zlim": [
        -100,
        100
       ]
      }
     },
     "1be459e38010428baebb7287d3f6e6d5": {
      "model_module": "@jupyter-widgets/controls",
      "model_module_version": "1.4.0",
      "model_name": "VBoxModel",
      "state": {
       "children": [
        "IPY_MODEL_1b88ca8d5fd6465fb00a8e525950bafc",
        "IPY_MODEL_e88e21e4bc014896a87d1e3e17009604"
       ],
       "layout": "IPY_MODEL_92405ecefe9d4ec38d04244804c84bdb"
      }
     },
     "1d238762ebce481da3146b6563c59857": {
      "model_module": "jupyter-threejs",
      "model_module_version": "^2.0.3",
      "model_name": "ShaderMaterialModel",
      "state": {
       "_view_module": null,
       "_view_module_version": ""
      }
     },
     "27217414b33646d696b8164c29a58aa0": {
      "model_module": "@jupyter-widgets/controls",
      "model_module_version": "1.4.0",
      "model_name": "ImageModel",
      "state": {
       "layout": "IPY_MODEL_ef1558355a594cb8a5291eb720ececf3",
       "width": "900.0"
      }
     },
     "285fae6a287b4457ad6835669e6ece24": {
      "model_module": "@jupyter-widgets/base",
      "model_module_version": "1.1.0",
      "model_name": "LayoutModel",
      "state": {}
     },
     "3223da11d196439cbe22d4efc01f18b7": {
      "model_module": "jupyter-threejs",
      "model_module_version": "^2.0.3",
      "model_name": "PerspectiveCameraModel",
      "state": {
       "_view_module": null,
       "_view_module_version": "",
       "aspect": 1.25,
       "fov": 46,
       "matrix": [
        0.30710367652321446,
        -0.08524032371971976,
        -0.9478509477117605,
        0,
        0.09114799613489946,
        0.9940365193874875,
        -0.05986184865673218,
        0,
        0.9473011003194904,
        -0.06801092071253363,
        0.3130417543991796,
        0,
        1.0163460957287125,
        -0.07296796521167981,
        0.33585811815944167,
        1
       ],
       "matrixWorld": [
        0.30710367652321446,
        -0.08524032371971976,
        -0.9478509477117605,
        0,
        0.09114799613489946,
        0.9940365193874875,
        -0.05986184865673218,
        0,
        0.9473011003194904,
        -0.06801092071253363,
        0.3130417543991796,
        0,
        1.0163460957287125,
        -0.07296796521167981,
        0.33585811815944167,
        1
       ],
       "matrixWorldInverse": [
        0.3071036765232144,
        0.09114799613489946,
        0.9473011003194903,
        0,
        -0.08524032371971975,
        0.9940365193874875,
        -0.06801092071253362,
        0,
        -0.9478509477117602,
        -0.059861848656732164,
        0.31304175439917953,
        0,
        -8.456776945386932e-17,
        -9.540979117872437e-18,
        -1.0728860078236324,
        1
       ],
       "matrixWorldNeedsUpdate": true,
       "position": [
        1.0163460957287125,
        -0.07296796521167981,
        0.33585811815944167
       ],
       "projectionMatrix": [
        1.884681892659002,
        0,
        0,
        0,
        0,
        2.3558523658237527,
        0,
        0,
        0,
        0,
        -1.00010000500025,
        -1,
        0,
        0,
        -0.200010000500025,
        0
       ],
       "quaternion": [
        0.0025200563757276522,
        0.5860655015578663,
        -0.05454713211635783,
        0.8084216026167723
       ],
       "rotation": [
        0.21393368174642147,
        1.2447031532100832,
        -0.28851731279759285,
        "XYZ"
       ],
       "up": [
        0.09114799613489946,
        0.9940365193874877,
        -0.05986184865673218
       ]
      }
     },
     "4bcde4d6c8b042f6853bb3995f043f26": {
      "model_module": "@jupyter-widgets/base",
      "model_module_version": "1.1.0",
      "model_name": "LayoutModel",
      "state": {}
     },
     "5090269c081e452ca47e519874fdaee3": {
      "model_module": "@jupyter-widgets/controls",
      "model_module_version": "1.4.0",
      "model_name": "ImageModel",
      "state": {
       "layout": "IPY_MODEL_124972b85b024a2490cdc464e2b41bf4",
       "width": "900.0"
      }
     },
     "517a322027e54bf3b2765cdc2c6d30af": {
      "model_module": "@jupyter-widgets/controls",
      "model_module_version": "1.4.0",
      "model_name": "LinkModel",
      "state": {
       "source": [
        "IPY_MODEL_eeafa9a0cbeb4a249eecfdd49ba2b8bd",
        "value"
       ],
       "target": [
        "IPY_MODEL_e09b1e8f75724e82a696c605c6eeebdf",
        "value"
       ]
      }
     },
     "64efa091417c4c2e887ecad9780331b9": {
      "model_module": "nglview-js-widgets",
      "model_module_version": "2.1.0",
      "model_name": "NGLModel",
      "state": {
       "_camera_orientation": [],
       "_camera_str": "orthographic",
       "_n_dragged_files": 0,
       "_ngl_color_dict": {},
       "_ngl_coordinate_resource": {},
       "_ngl_full_stage_parameters": {},
       "_ngl_full_stage_parameters_embed": {},
       "_ngl_msg_archive": [],
       "_ngl_original_stage_parameters": {},
       "_ngl_repr_dict": {},
       "_ngl_serialize": false,
       "_ngl_version": "",
       "_scene_position": {},
       "_scene_rotation": {},
       "background": "white",
       "count": 1,
       "frame": 0,
       "layout": "IPY_MODEL_d23cf22aaced4fa79f2d33ced7a6748e",
       "n_components": 0,
       "picked": {}
      }
     },
     "7653b17c471f4a858ef1d58d3aad5a66": {
      "model_module": "nglview-js-widgets",
      "model_module_version": "2.1.0",
      "model_name": "NGLModel",
      "state": {
       "_camera_orientation": [],
       "_camera_str": "orthographic",
       "_n_dragged_files": 0,
       "_ngl_color_dict": {},
       "_ngl_coordinate_resource": {},
       "_ngl_full_stage_parameters": {},
       "_ngl_full_stage_parameters_embed": {},
       "_ngl_msg_archive": [],
       "_ngl_original_stage_parameters": {},
       "_ngl_repr_dict": {},
       "_ngl_serialize": false,
       "_ngl_version": "",
       "_scene_position": {},
       "_scene_rotation": {},
       "background": "white",
       "count": 1,
       "frame": 0,
       "layout": "IPY_MODEL_14ad1e4e7bd441ed91419281a847677f",
       "n_components": 0,
       "picked": {}
      }
     },
     "7e662d5f130c40eea892e7885089849d": {
      "model_module": "@jupyter-widgets/base",
      "model_module_version": "1.1.0",
      "model_name": "LayoutModel",
      "state": {}
     },
     "80dabfc41a5f4c4e8433d0d085ac9215": {
      "model_module": "@jupyter-widgets/base",
      "model_module_version": "1.1.0",
      "model_name": "LayoutModel",
      "state": {}
     },
     "8c710cc4ca1f49b786a76711ce3211dc": {
      "model_module": "nglview-js-widgets",
      "model_module_version": "2.1.0",
      "model_name": "NGLModel",
      "state": {
       "_camera_orientation": [
        41.61987229867046,
        87.19272707303229,
        28.13051089206029,
        0,
        13.742571484856562,
        24.606144438001024,
        -96.60119281105212,
        0,
        -90.5816704773344,
        43.79585675725762,
        -1.730598761077398,
        0,
        10.063852310180664,
        -22.925198554992676,
        55.63625431060791,
        1
       ],
       "_camera_str": "orthographic",
       "_n_dragged_files": 0,
       "_ngl_color_dict": {},
       "_ngl_coordinate_resource": {},
       "_ngl_full_stage_parameters": {
        "ambientColor": 14540253,
        "ambientIntensity": 0.2,
        "backgroundColor": "white",
        "cameraEyeSep": 0.3,
        "cameraFov": 40,
        "cameraType": "perspective",
        "clipDist": 10,
        "clipFar": 100,
        "clipNear": 0,
        "fogFar": 100,
        "fogNear": 50,
        "hoverTimeout": 0,
        "impostor": true,
        "lightColor": 14540253,
        "lightIntensity": 1,
        "mousePreset": "default",
        "panSpeed": 1,
        "quality": "medium",
        "rotateSpeed": 2,
        "sampleLevel": 0,
        "tooltip": true,
        "workerDefault": true,
        "zoomSpeed": 1.2
       },
       "_ngl_full_stage_parameters_embed": {},
       "_ngl_msg_archive": [],
       "_ngl_original_stage_parameters": {
        "ambientColor": 14540253,
        "ambientIntensity": 0.2,
        "backgroundColor": "white",
        "cameraEyeSep": 0.3,
        "cameraFov": 40,
        "cameraType": "perspective",
        "clipDist": 10,
        "clipFar": 100,
        "clipNear": 0,
        "fogFar": 100,
        "fogNear": 50,
        "hoverTimeout": 0,
        "impostor": true,
        "lightColor": 14540253,
        "lightIntensity": 1,
        "mousePreset": "default",
        "panSpeed": 1,
        "quality": "medium",
        "rotateSpeed": 2,
        "sampleLevel": 0,
        "tooltip": true,
        "workerDefault": true,
        "zoomSpeed": 1.2
       },
       "_ngl_repr_dict": {
        "0": {
         "0": {
          "params": {
           "aspectRatio": 2,
           "assembly": "default",
           "bondScale": 0.4,
           "bondSpacing": 1,
           "clipCenter": {
            "x": 0,
            "y": 0,
            "z": 0
           },
           "clipNear": 0,
           "clipRadius": 0,
           "colorMode": "hcl",
           "colorReverse": false,
           "colorScale": "",
           "colorScheme": "element",
           "colorValue": 9474192,
           "cylinderOnly": false,
           "defaultAssembly": "",
           "depthWrite": true,
           "diffuse": 16777215,
           "diffuseInterior": false,
           "disableImpostor": false,
           "disablePicking": false,
           "flatShaded": false,
           "interiorColor": 2236962,
           "interiorDarkening": 0,
           "lazy": false,
           "lineOnly": false,
           "linewidth": 2,
           "matrix": {
            "elements": [
             1,
             0,
             0,
             0,
             0,
             1,
             0,
             0,
             0,
             0,
             1,
             0,
             0,
             0,
             0,
             1
            ]
           },
           "metalness": 0,
           "multipleBond": "off",
           "opacity": 1,
           "openEnded": true,
           "quality": "medium",
           "radialSegments": 10,
           "radiusData": {},
           "radiusScale": 1,
           "radiusSize": 0.15,
           "radiusType": "size",
           "roughness": 0.4,
           "sele": "all",
           "side": "double",
           "sphereDetail": 1,
           "useInteriorColor": true,
           "visible": true,
           "wireframe": false
          },
          "type": "ball+stick"
         }
        }
       },
       "_ngl_serialize": false,
       "_ngl_version": "2.0.0-dev.36",
       "_scene_position": {},
       "_scene_rotation": {},
       "background": "white",
       "count": 1,
       "frame": 0,
       "layout": "IPY_MODEL_80dabfc41a5f4c4e8433d0d085ac9215",
       "n_components": 1,
       "picked": {}
      }
     },
     "92389458b2dd4025a8e5fd6f9902ab20": {
      "model_module": "jupyter-threejs",
      "model_module_version": "^2.0.3",
      "model_name": "SceneModel",
      "state": {
       "_view_module": null,
       "_view_module_version": "",
       "background": null
      }
     },
     "92405ecefe9d4ec38d04244804c84bdb": {
      "model_module": "@jupyter-widgets/base",
      "model_module_version": "1.1.0",
      "model_name": "LayoutModel",
      "state": {}
     },
     "942db0be829c4264b73617fcc9c7dd7f": {
      "model_module": "@jupyter-widgets/controls",
      "model_module_version": "1.4.0",
      "model_name": "LinkModel",
      "state": {
       "source": [
        "IPY_MODEL_e09b1e8f75724e82a696c605c6eeebdf",
        "value"
       ],
       "target": [
        "IPY_MODEL_15d99403b6bd447e93b6bd9abcb389f6",
        "sequence_index"
       ]
      }
     },
     "9d1773bf5e4d47c2b90678439c0b430b": {
      "model_module": "@jupyter-widgets/controls",
      "model_module_version": "1.4.0",
      "model_name": "SliderStyleModel",
      "state": {
       "description_width": ""
      }
     },
     "a26d2f592b934624bdeee076b36088e6": {
      "model_module": "@jupyter-widgets/controls",
      "model_module_version": "1.4.0",
      "model_name": "DescriptionStyleModel",
      "state": {
       "description_width": ""
      }
     },
     "b374e095725849329fe96a56068bfaed": {
      "model_module": "@jupyter-widgets/controls",
      "model_module_version": "1.4.0",
      "model_name": "ImageModel",
      "state": {
       "layout": "IPY_MODEL_b8cc6a2f877b433abf54ac0f990d0646",
       "width": "900.0"
      }
     },
     "b8cc6a2f877b433abf54ac0f990d0646": {
      "model_module": "@jupyter-widgets/base",
      "model_module_version": "1.1.0",
      "model_name": "LayoutModel",
      "state": {}
     },
     "d0c57de2221e4cf984d82cf8dba0a447": {
      "model_module": "@jupyter-widgets/base",
      "model_module_version": "1.1.0",
      "model_name": "LayoutModel",
      "state": {}
     },
     "d23cf22aaced4fa79f2d33ced7a6748e": {
      "model_module": "@jupyter-widgets/base",
      "model_module_version": "1.1.0",
      "model_name": "LayoutModel",
      "state": {}
     },
     "d9792016090e4f498b8627a8b430ec42": {
      "model_module": "jupyter-threejs",
      "model_module_version": "^2.0.3",
      "model_name": "ShaderMaterialModel",
      "state": {
       "_view_module": null,
       "_view_module_version": ""
      }
     },
     "dd9ed46eb723498eb0ff6d39b95b89e5": {
      "model_module": "nglview-js-widgets",
      "model_module_version": "2.1.0",
      "model_name": "NGLModel",
      "state": {
       "_camera_orientation": [],
       "_camera_str": "orthographic",
       "_n_dragged_files": 0,
       "_ngl_color_dict": {},
       "_ngl_coordinate_resource": {},
       "_ngl_full_stage_parameters": {},
       "_ngl_full_stage_parameters_embed": {},
       "_ngl_msg_archive": [],
       "_ngl_original_stage_parameters": {},
       "_ngl_repr_dict": {},
       "_ngl_serialize": false,
       "_ngl_version": "",
       "_scene_position": {},
       "_scene_rotation": {},
       "background": "white",
       "count": 1,
       "frame": 0,
       "layout": "IPY_MODEL_05f2a9220b364ef9baa382867f5e3353",
       "n_components": 0,
       "picked": {}
      }
     },
     "e09b1e8f75724e82a696c605c6eeebdf": {
      "model_module": "@jupyter-widgets/controls",
      "model_module_version": "1.4.0",
      "model_name": "FloatSliderModel",
      "state": {
       "layout": "IPY_MODEL_285fae6a287b4457ad6835669e6ece24",
       "max": 2599,
       "style": "IPY_MODEL_9d1773bf5e4d47c2b90678439c0b430b"
      }
     },
     "e88e21e4bc014896a87d1e3e17009604": {
      "model_module": "@jupyter-widgets/controls",
      "model_module_version": "1.4.0",
      "model_name": "HBoxModel",
      "state": {
       "children": [
        "IPY_MODEL_eeafa9a0cbeb4a249eecfdd49ba2b8bd",
        "IPY_MODEL_e09b1e8f75724e82a696c605c6eeebdf"
       ],
       "layout": "IPY_MODEL_4bcde4d6c8b042f6853bb3995f043f26"
      }
     },
     "eeafa9a0cbeb4a249eecfdd49ba2b8bd": {
      "model_module": "@jupyter-widgets/controls",
      "model_module_version": "1.4.0",
      "model_name": "PlayModel",
      "state": {
       "interval": 200,
       "layout": "IPY_MODEL_d0c57de2221e4cf984d82cf8dba0a447",
       "max": 2599,
       "style": "IPY_MODEL_a26d2f592b934624bdeee076b36088e6"
      }
     },
     "ef1558355a594cb8a5291eb720ececf3": {
      "model_module": "@jupyter-widgets/base",
      "model_module_version": "1.1.0",
      "model_name": "LayoutModel",
      "state": {}
     }
    },
    "version_major": 2,
    "version_minor": 0
   }
  }
 },
 "nbformat": 4,
 "nbformat_minor": 2
}
