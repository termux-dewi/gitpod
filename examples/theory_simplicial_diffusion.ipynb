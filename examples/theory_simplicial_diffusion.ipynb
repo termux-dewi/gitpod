{
 "cells": [
  {
   "cell_type": "markdown",
   "metadata": {},
   "source": [
    "### Action of boundary and co-boundary maps on a chain\n",
    "\n",
    "__*Definition.*__ An abstract simplicial complex $K$ is a collection of finite sets that is closed\n",
    "under set inclusion, i.e. if $\\sigma \\in K$ and $\\tau \\subseteq \\sigma$, then $\\tau \\in K$.\n",
    "\n",
    "__*Definition.*__ The boundary operator $\\partial_d : C_d(K) \\rightarrow C_{d-1}(K)$ is the linear function defined for each oriented $d$-simplex $\\sigma = [v_0, ..., v_d]$ by\n",
    "\\begin{equation}\n",
    "\\partial_d (\\sigma) = \\partial_d [v_0, ..., v_d] = \\sum_{i=0}^d (-1)^i [v_0, ..., \\hat{v}_i, ..., v_d],\n",
    "\\end{equation}\n",
    "where $[v_0, ... \\hat{v}_i, ..., v_d]$ is the subset of $[v_0, ..., v_d]$ obtained by removing the vertex $v_i$.\n",
    "\n",
    "Let $S_d(K)$ be the set of all oriented $d$-simplices of the simplicial complex $K$ (i.e. the set of basis elements of $C_d(K)$), and let $\\tau in S_{d-1}(K)$. Then define the two sets\n",
    "\\begin{align}\n",
    "S^+_d (K) &= \\{ \\sigma \\in S_d(K) \\, | \\text{ the coefficient of } \\tau \\text{ in } \\partial_d (\\sigma) \\text{ is } +1 \\} \\\\\n",
    "S^-_d (K) &= \\{ \\sigma \\in S_d(K) \\, | \\text{ the coefficient of } \\tau \\text{ in } \\partial_d (\\sigma) \\text{ is } -1 \\}\n",
    "\\end{align}\n",
    "\n",
    "__*Lemma (see [1])*__ Let $\\partial^*_d$ be the adjoint of the boundary operator $\\partial_d$, and let $\\tau \\in S_{d-1}(K)$. Then\n",
    "\\begin{equation}\n",
    "\\partial^*_d (\\tau) = \\sum_{\\sigma' \\in S^+_d (K, \\tau)} \\sigma' - \\sum_{\\sigma'' \\in  S^-_d (K, \\tau)} \\sigma''.\n",
    "\\end{equation}\n",
    "\n",
    "\n",
    "In this section we are going to see how boundary maps act on "
   ]
  },
  {
   "cell_type": "code",
   "execution_count": null,
   "metadata": {},
   "outputs": [],
   "source": []
  }
 ],
 "metadata": {
  "kernelspec": {
   "display_name": "Python 3",
   "language": "python",
   "name": "python3"
  },
  "language_info": {
   "codemirror_mode": {
    "name": "ipython",
    "version": 3
   },
   "file_extension": ".py",
   "mimetype": "text/x-python",
   "name": "python",
   "nbconvert_exporter": "python",
   "pygments_lexer": "ipython3",
   "version": "3.6.7"
  }
 },
 "nbformat": 4,
 "nbformat_minor": 2
}
