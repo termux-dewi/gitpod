{
 "cells": [
  {
   "cell_type": "code",
   "execution_count": 1,
   "metadata": {},
   "outputs": [
    {
     "ename": "ModuleNotFoundError",
     "evalue": "No module named 'hodgelaplacians'",
     "output_type": "error",
     "traceback": [
      "\u001b[0;31m---------------------------------------------------------------------------\u001b[0m",
      "\u001b[0;31mModuleNotFoundError\u001b[0m                       Traceback (most recent call last)",
      "\u001b[0;32m<ipython-input-1-3e533c96204f>\u001b[0m in \u001b[0;36m<module>\u001b[0;34m\u001b[0m\n\u001b[0;32m----> 1\u001b[0;31m \u001b[0;32mfrom\u001b[0m \u001b[0mhodgelaplacians\u001b[0m \u001b[0;32mimport\u001b[0m \u001b[0mHodgeLaplacians\u001b[0m\u001b[0;34m\u001b[0m\u001b[0;34m\u001b[0m\u001b[0m\n\u001b[0m\u001b[1;32m      2\u001b[0m \u001b[0;34m\u001b[0m\u001b[0m\n\u001b[1;32m      3\u001b[0m \u001b[0msimplices\u001b[0m \u001b[0;34m=\u001b[0m \u001b[0;34m(\u001b[0m\u001b[0;34m(\u001b[0m\u001b[0;36m1\u001b[0m\u001b[0;34m,\u001b[0m\u001b[0;36m2\u001b[0m\u001b[0;34m,\u001b[0m\u001b[0;36m3\u001b[0m\u001b[0;34m)\u001b[0m\u001b[0;34m,\u001b[0m \u001b[0;34m(\u001b[0m\u001b[0;36m2\u001b[0m\u001b[0;34m,\u001b[0m\u001b[0;36m3\u001b[0m\u001b[0;34m)\u001b[0m\u001b[0;34m,\u001b[0m \u001b[0;34m(\u001b[0m\u001b[0;36m1\u001b[0m\u001b[0;34m,\u001b[0m\u001b[0;36m2\u001b[0m\u001b[0;34m,\u001b[0m\u001b[0;36m4\u001b[0m\u001b[0;34m)\u001b[0m\u001b[0;34m,\u001b[0m \u001b[0;34m(\u001b[0m\u001b[0;36m6\u001b[0m\u001b[0;34m,\u001b[0m\u001b[0;36m3\u001b[0m\u001b[0;34m)\u001b[0m\u001b[0;34m)\u001b[0m\u001b[0;34m\u001b[0m\u001b[0;34m\u001b[0m\u001b[0m\n\u001b[1;32m      4\u001b[0m \u001b[0;34m\u001b[0m\u001b[0m\n\u001b[1;32m      5\u001b[0m \u001b[0mhl\u001b[0m \u001b[0;34m=\u001b[0m \u001b[0mHodgeLaplacians\u001b[0m\u001b[0;34m(\u001b[0m\u001b[0msimplices\u001b[0m\u001b[0;34m)\u001b[0m\u001b[0;34m\u001b[0m\u001b[0;34m\u001b[0m\u001b[0m\n",
      "\u001b[0;31mModuleNotFoundError\u001b[0m: No module named 'hodgelaplacians'"
     ]
    }
   ],
   "source": [
    "from hodgelaplacians import HodgeLaplacians\n",
    "\n",
    "simplices = ((1,2,3), (2,3), (1,2,4), (6,3))\n",
    "\n",
    "hl = HodgeLaplacians(simplices)\n",
    "\n",
    "# Boundary operators\n",
    "B0 = hl.getBoundaryOperator(0)\n",
    "B1 = hl.getBoundaryOperator(1)\n",
    "B2 = hl.getBoundaryOperator(2)\n",
    "\n",
    "# Hodge Laplacians\n",
    "L0 = hl.getHodgeLaplacian(0)\n",
    "L1 = hl.getHodgeLaplacian(1)\n",
    "L2 = hl.getHodgeLaplacian(2)\n",
    "\n",
    "# Bochner Laplacian \n",
    "# (row sum of absolute values equals to diagonal element)\n",
    "LB0 = hl.getBochnerLaplacian(0)\n",
    "LB1 = hl.getBochnerLaplacian(1)\n",
    "LB2 = hl.getBochnerLaplacian(2)\n",
    "\n",
    "# Combinatorial Ricci curvature\n",
    "# (correction term for Laplacian to become Bochner Laplacian)\n",
    "R0 = hl.getCombinatorialRicci(0)\n",
    "R1 = hl.getCombinatorialRicci(1)\n",
    "R2 = hl.getCombinatorialRicci(2)\n",
    "\n",
    "# Eigenvalues and eigenchains of Hodge and Bochner Laplacians\n",
    "evalsL, evecsL = hl.getHodgeSpectrum(1, 4, around_point = 0.01)\n",
    "evalsLB, evecsLB = hl.getBochnerSpectrum(1, 4, around_point = 0.01)\n",
    "\n",
    "print(26*'-'+'Faces'+27*'-')\n",
    "print(f\"\\n0-faces:\\n {hl.n_faces(0)}\")\n",
    "print(f\"\\n1-faces:\\n {hl.n_faces(1)}\")\n",
    "print(f\"\\n2-faces:\\n {hl.n_faces(2)}\")\n",
    "print(58*'-')\n",
    "print('\\n')\n",
    "\n",
    "print(20*'-'+'Boundary operators'+20*'-')\n",
    "print(f\"0-Boundary operator is \\n {B0.toarray()} \\n \\n\")\n",
    "print(f\"1-Boundary operator is \\n {B1.toarray()} \\n \\n\")\n",
    "print(f\"2-Boundary operator is \\n {B2.toarray()} \")\n",
    "print(58*'-')\n",
    "print('\\n')\n",
    "\n",
    "print(21*'-'+'Hodge Laplacians'+21*'-')\n",
    "print(f\"0-Hodge Laplacian operator is \\n {L0.toarray()} \\n \\n\")\n",
    "print(f\"1-Hodge Laplacian operator is \\n {L1.toarray()} \\n \\n\")\n",
    "print(f\"2-Hodge Laplacian operator is \\n {L2.toarray()}\")\n",
    "print(58*'-')\n",
    "print('\\n')\n",
    "\n",
    "print(21*'-'+'Bochner Laplacians'+21*'-')\n",
    "print(f\"0-Bochner Laplacian operator is \\n {LB0.toarray()} \\n \\n\")\n",
    "print(f\"1-Bochner Laplacian operator is \\n {LB1.toarray()} \\n \\n\")\n",
    "print(f\"2-Bochner Laplacian operator is \\n {LB2.toarray()}\")\n",
    "print(58*'-')\n",
    "print('\\n')\n",
    "\n",
    "print(11*'-'+'Combinatorial Forman-Ricci curvature'+11*'-')\n",
    "print(f\"0-Ricci curvature \\n {R0} \\n \\n\")\n",
    "print(f\"1-Ricci curvature \\n {R1} \\n \\n\")\n",
    "print(f\"2-Ricci curvature \\n {R2}\")\n",
    "print(58*'-')\n",
    "print('\\n')\n",
    "\n",
    "print(15*'-'+'Eigenvalues and eigenvectors'+15*'-')\n",
    "print(f\"\\n The second smallest eigenvalue lambda_1 of L1 is:\\n {evalsL[1]}\")\n",
    "print(f\"\\n The corresponding egienvector u_1 is:\\n {evecsL[1]}\")\n",
    "print(f\"\\n The product L1@u_1 equals to:\\n {L1.dot(evecsL[2])}\")\n",
    "print(f\"\\n The product lambda_1@u_1 equals to:\\n {evecsL[2].dot(evalsL[2])}\")\n",
    "print()\n",
    "print(58*'-')"
   ]
  }
 ],
 "metadata": {
  "kernelspec": {
   "display_name": "Python 3",
   "language": "python",
   "name": "python3"
  },
  "language_info": {
   "codemirror_mode": {
    "name": "ipython",
    "version": 3
   },
   "file_extension": ".py",
   "mimetype": "text/x-python",
   "name": "python",
   "nbconvert_exporter": "python",
   "pygments_lexer": "ipython3",
   "version": "3.7.2"
  }
 },
 "nbformat": 4,
 "nbformat_minor": 2
}
